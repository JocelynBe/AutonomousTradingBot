{
 "cells": [
  {
   "cell_type": "code",
   "execution_count": null,
   "id": "120fcb35-5780-4f72-965e-9b428756685e",
   "metadata": {},
   "outputs": [],
   "source": [
    "%load_ext autoreload\n",
    "%autoreload 2\n"
   ]
  },
  {
   "cell_type": "code",
   "execution_count": null,
   "id": "f9db62b4-a145-4518-8cfa-320710db2b6a",
   "metadata": {},
   "outputs": [],
   "source": [
    "from data.script import aux_fn as download_data\n",
    "from data.constants import BINANCE_PAIRS"
   ]
  },
  {
   "cell_type": "code",
   "execution_count": null,
   "id": "f9808904-151d-4ba6-9ea5-509d174a135b",
   "metadata": {},
   "outputs": [],
   "source": [
    "output_dir = '../../data/raw_candles'"
   ]
  },
  {
   "cell_type": "code",
   "execution_count": null,
   "id": "e7755af5-b3de-4bcb-a074-46d962c8f90a",
   "metadata": {
    "tags": []
   },
   "outputs": [],
   "source": [
    "args = []\n",
    "for symbol in BINANCE_PAIRS:\n",
    "    args.append(('download', symbol, output_dir))"
   ]
  },
  {
   "cell_type": "code",
   "execution_count": null,
   "id": "4093ac65-0b96-4c86-abb1-52843f8adc78",
   "metadata": {},
   "outputs": [],
   "source": [
    "from multiprocessing import Pool"
   ]
  },
  {
   "cell_type": "code",
   "execution_count": null,
   "id": "bc98a1c4-2ac9-461e-b3a5-3aa1f37a5821",
   "metadata": {},
   "outputs": [],
   "source": [
    "pool = Pool(10)\n",
    "pool.map(download_data, args)"
   ]
  }
 ],
 "metadata": {
  "kernelspec": {
   "display_name": "Python 3 (ipykernel)",
   "language": "python",
   "name": "python3"
  },
  "language_info": {
   "codemirror_mode": {
    "name": "ipython",
    "version": 3
   },
   "file_extension": ".py",
   "mimetype": "text/x-python",
   "name": "python",
   "nbconvert_exporter": "python",
   "pygments_lexer": "ipython3",
   "version": "3.11.5"
  }
 },
 "nbformat": 4,
 "nbformat_minor": 5
}
